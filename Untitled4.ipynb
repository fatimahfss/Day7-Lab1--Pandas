{
  "nbformat": 4,
  "nbformat_minor": 0,
  "metadata": {
    "colab": {
      "name": "Untitled4.ipynb",
      "provenance": []
    },
    "kernelspec": {
      "name": "python3",
      "display_name": "Python 3"
    },
    "language_info": {
      "name": "python"
    }
  },
  "cells": [
    {
      "cell_type": "code",
      "execution_count": null,
      "metadata": {
        "id": "6wG0j8YOBR19"
      },
      "outputs": [],
      "source": [
        "import pandas as pd\n"
      ]
    },
    {
      "cell_type": "markdown",
      "source": [
        ""
      ],
      "metadata": {
        "id": "vV0q5Wx7BYkw"
      }
    },
    {
      "cell_type": "code",
      "source": [
        "names=['Fatimah','Layan','Aryam']\n",
        "index=[1,2,3]\n",
        "S=pd.Series(names,index)\n",
        "S"
      ],
      "metadata": {
        "id": "eRuwFsfJBYnQ"
      },
      "execution_count": null,
      "outputs": []
    },
    {
      "cell_type": "code",
      "source": [
        "\n",
        "S.index=[11,12,13]\n",
        "S\n",
        "print(S[0:2])\n",
        "print(S)"
      ],
      "metadata": {
        "id": "f_N2qDI1Bbn0"
      },
      "execution_count": null,
      "outputs": []
    },
    {
      "cell_type": "code",
      "source": [
        "S2=pd.Series(['Fatimah','kholod','Maram','Fatimah'])\n",
        "S=S.append(S2)\n",
        "print(S)\n",
        "print('//////')\n",
        "S=S.drop_duplicates()\n",
        "print(S)\n"
      ],
      "metadata": {
        "id": "gt3v5gPjBfXh"
      },
      "execution_count": null,
      "outputs": []
    },
    {
      "cell_type": "code",
      "source": [
        "data={\"name\":['Fatimah','Layan','Aryam','Deema','Amal'],\n",
        "      \"id\":[11,12,13,14,15]\n",
        "     }\n",
        "Data=pd.DataFrame(data,columns=['name','id'])\n",
        "Data\n"
      ],
      "metadata": {
        "id": "BPqiKIMLBewF"
      },
      "execution_count": null,
      "outputs": []
    },
    {
      "cell_type": "code",
      "source": [
        "x=pd.read_csv('fss_c/desktop/Python-course/educ_figdp_1_Data.csv')\n",
        "x"
      ],
      "metadata": {
        "id": "POCmgehRBlUz"
      },
      "execution_count": null,
      "outputs": []
    }
  ]
}